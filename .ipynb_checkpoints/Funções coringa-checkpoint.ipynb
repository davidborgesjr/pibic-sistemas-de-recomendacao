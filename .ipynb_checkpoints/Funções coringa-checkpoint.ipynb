{
 "cells": [
  {
   "cell_type": "code",
   "execution_count": null,
   "metadata": {},
   "outputs": [],
   "source": [
    "def comparaFilmesAvaliados(usuario1, usuario2):\n",
    "    avaliacoes_usuario1 = avaliacoes_usuario(usuario1)\n",
    "    avaliacoes_usuario2 = avaliacoes_usuario(usuario2)\n",
    "    suf_esquerda = '_usuario_'+str(usuario1)\n",
    "    suf_direita = '_usuario_'+str(usuario2)\n",
    "    filmes_avaliados = avaliacoes_usuario1.join(avaliacoes_usuario2, \n",
    "                                                lsuffix=suf_esquerda, \n",
    "                                                rsuffix=suf_direita).dropna()\n",
    "    return filmes_avaliados   "
   ]
  },
  {
   "cell_type": "code",
   "execution_count": null,
   "metadata": {},
   "outputs": [],
   "source": [
    "#usuarios_perfis_similares = verificaDistancias(1)\n",
    "def verifica_filmes_usuarios_proximos(usuarios_perfis_similares):\n",
    "    usuarios_proximos = usuarios_perfis_similares.head(10)\n",
    "    usuarios = []\n",
    "    for index, row in usuarios_proximos.iterrows():\n",
    "        usuario = int(row['Usuário comparado'])\n",
    "        usuarios.append(usuario)\n",
    "    return usuarios"
   ]
  }
 ],
 "metadata": {
  "kernelspec": {
   "display_name": "Python 3",
   "language": "python",
   "name": "python3"
  },
  "language_info": {
   "codemirror_mode": {
    "name": "ipython",
    "version": 3
   },
   "file_extension": ".py",
   "mimetype": "text/x-python",
   "name": "python",
   "nbconvert_exporter": "python",
   "pygments_lexer": "ipython3",
   "version": "3.7.0"
  }
 },
 "nbformat": 4,
 "nbformat_minor": 2
}
