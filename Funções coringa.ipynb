{
 "cells": [
  {
   "cell_type": "code",
   "execution_count": 1,
   "metadata": {},
   "outputs": [],
   "source": [
    "import pandas as pd\n",
    "import numpy as np\n",
    "import warnings\n",
    "warnings.filterwarnings('ignore')\n",
    "folder = \"ml-latest-small/\""
   ]
  },
  {
   "cell_type": "code",
   "execution_count": 2,
   "metadata": {},
   "outputs": [],
   "source": [
    "ratings = pd.read_csv(folder+'ratings.csv')\n",
    "movies = pd.read_csv(folder+'movies.csv')\n",
    "moviesIndex = movies.set_index('movieId')\n",
    "links = pd.read_csv(folder+'links.csv')\n",
    "tags = pd.read_csv(folder+'tags.csv')\n",
    "matriz_filmes = ratings.pivot_table(index='userId', columns='movieId', values='rating')"
   ]
  },
  {
   "cell_type": "code",
   "execution_count": 3,
   "metadata": {},
   "outputs": [],
   "source": [
    "#cria um novo dataframe que recebe a média e a qtde de avaliações de um filme\n",
    "ratings = pd.merge(ratings, movies, on='movieId')\n",
    "avaliacoes = pd.DataFrame(ratings.groupby('movieId')['rating'].mean())\n",
    "avaliacoes['qtde_avaliacoes'] = ratings.groupby('movieId')['rating'].count()"
   ]
  },
  {
   "cell_type": "code",
   "execution_count": 4,
   "metadata": {},
   "outputs": [],
   "source": [
    "def comparaFilmesAvaliados(usuario1, usuario2):\n",
    "    avaliacoes_usuario1 = avaliacoes_usuario(usuario1)\n",
    "    avaliacoes_usuario2 = avaliacoes_usuario(usuario2)\n",
    "    suf_esquerda = '_usuario_'+str(usuario1)\n",
    "    suf_direita = '_usuario_'+str(usuario2)\n",
    "    filmes_avaliados = avaliacoes_usuario1.join(avaliacoes_usuario2, \n",
    "                                                lsuffix=suf_esquerda, \n",
    "                                                rsuffix=suf_direita).dropna()\n",
    "    return filmes_avaliados   "
   ]
  },
  {
   "cell_type": "code",
   "execution_count": 5,
   "metadata": {},
   "outputs": [],
   "source": [
    "#usuarios_perfis_similares = verificaDistancias(1)\n",
    "def verifica_filmes_usuarios_proximos(usuarios_perfis_similares):\n",
    "    usuarios_proximos = usuarios_perfis_similares.head(10)\n",
    "    usuarios = []\n",
    "    for index, row in usuarios_proximos.iterrows():\n",
    "        usuario = int(row['Usuário comparado'])\n",
    "        usuarios.append(usuario)\n",
    "    return usuarios"
   ]
  },
  {
   "cell_type": "code",
   "execution_count": 16,
   "metadata": {},
   "outputs": [
    {
     "data": {
      "text/html": [
       "<div>\n",
       "<style scoped>\n",
       "    .dataframe tbody tr th:only-of-type {\n",
       "        vertical-align: middle;\n",
       "    }\n",
       "\n",
       "    .dataframe tbody tr th {\n",
       "        vertical-align: top;\n",
       "    }\n",
       "\n",
       "    .dataframe thead th {\n",
       "        text-align: right;\n",
       "    }\n",
       "</style>\n",
       "<table border=\"1\" class=\"dataframe\">\n",
       "  <thead>\n",
       "    <tr style=\"text-align: right;\">\n",
       "      <th></th>\n",
       "      <th>userId</th>\n",
       "      <th>movieId</th>\n",
       "      <th>rating</th>\n",
       "      <th>timestamp</th>\n",
       "      <th>title</th>\n",
       "      <th>genres</th>\n",
       "    </tr>\n",
       "  </thead>\n",
       "  <tbody>\n",
       "  </tbody>\n",
       "</table>\n",
       "</div>"
      ],
      "text/plain": [
       "Empty DataFrame\n",
       "Columns: [userId, movieId, rating, timestamp, title, genres]\n",
       "Index: []"
      ]
     },
     "execution_count": 16,
     "metadata": {},
     "output_type": "execute_result"
    }
   ],
   "source": [
    "ratings.query(\"movieId == 109487 and userId == 35\")"
   ]
  }
 ],
 "metadata": {
  "kernelspec": {
   "display_name": "Python 3",
   "language": "python",
   "name": "python3"
  },
  "language_info": {
   "codemirror_mode": {
    "name": "ipython",
    "version": 3
   },
   "file_extension": ".py",
   "mimetype": "text/x-python",
   "name": "python",
   "nbconvert_exporter": "python",
   "pygments_lexer": "ipython3",
   "version": "3.7.0"
  }
 },
 "nbformat": 4,
 "nbformat_minor": 2
}
