{
 "cells": [
  {
   "cell_type": "code",
   "execution_count": null,
   "metadata": {},
   "outputs": [],
   "source": [
    "import pandas as pd\n",
    "import numpy as np\n",
    "import warnings\n",
    "warnings.filterwarnings('ignore')\n",
    "folder = \"ml-latest-small/\""
   ]
  },
  {
   "cell_type": "code",
   "execution_count": null,
   "metadata": {},
   "outputs": [],
   "source": [
    "ratings = pd.read_csv(folder+'ratings.csv')\n",
    "movies = pd.read_csv(folder+'movies.csv')\n",
    "moviesIndex = movies.set_index('movieId')\n",
    "links = pd.read_csv(folder+'links.csv')\n",
    "tags = pd.read_csv(folder+'tags.csv')\n",
    "matriz_filmes = ratings.pivot_table(index='userId', columns='movieId', values='rating')"
   ]
  },
  {
   "cell_type": "code",
   "execution_count": null,
   "metadata": {},
   "outputs": [],
   "source": [
    "#cria um novo dataframe que recebe a média e a qtde de avaliações de um filme\n",
    "ratings = pd.merge(ratings, movies, on='movieId')\n",
    "avaliacoes = pd.DataFrame(ratings.groupby('movieId')['rating'].mean())\n",
    "avaliacoes['qtde_avaliacoes'] = ratings.groupby('movieId')['rating'].count()\n",
    "avaliacoes"
   ]
  },
  {
   "cell_type": "code",
   "execution_count": null,
   "metadata": {},
   "outputs": [],
   "source": [
    "#usando a correlação entre o usuário e os filmes avaliados\n",
    "def define_correlacao_filme(filme_id, qtde_avaliacoes=100):\n",
    "    avaliacao_usuario = matriz_filmes[filme_id]\n",
    "    similares = matriz_filmes.corrwith(avaliacao_usuario)\n",
    "    frame = similares.to_frame()\n",
    "    frame.dropna(inplace=True)\n",
    "    frame.columns = ['correlacao']\n",
    "    frame = frame.join(avaliacoes['qtde_avaliacoes'])\n",
    "    frame = frame[frame['qtde_avaliacoes'] > qtde_avaliacoes].sort_values(by='correlacao', ascending=False).head(10)\n",
    "    return frame"
   ]
  },
  {
   "cell_type": "code",
   "execution_count": null,
   "metadata": {},
   "outputs": [],
   "source": [
    "#retorna os filmes com as recomendações mais próximas \n",
    "def verifica_recomendacoes(filme_id):\n",
    "    data_frame = define_correlacao_filme(filme_id)\n",
    "    indice_filmes = data_frame.index.values\n",
    "    filmes_proximos = moviesIndex.loc[indice_filmes]\n",
    "    return filmes_proximos"
   ]
  },
  {
   "cell_type": "code",
   "execution_count": null,
   "metadata": {},
   "outputs": [],
   "source": [
    "ratings.query('userId==356').sort_values('rating', ascending=False).head(10)"
   ]
  },
  {
   "cell_type": "code",
   "execution_count": null,
   "metadata": {},
   "outputs": [],
   "source": [
    "verifica_recomendacoes(356) #Procurando por forrest gump *356"
   ]
  },
  {
   "cell_type": "code",
   "execution_count": null,
   "metadata": {},
   "outputs": [],
   "source": [
    "verifica_recomendacoes(1) #Procurando por toy story *1"
   ]
  }
 ],
 "metadata": {
  "kernelspec": {
   "display_name": "Python 3",
   "language": "python",
   "name": "python3"
  },
  "language_info": {
   "codemirror_mode": {
    "name": "ipython",
    "version": 3
   },
   "file_extension": ".py",
   "mimetype": "text/x-python",
   "name": "python",
   "nbconvert_exporter": "python",
   "pygments_lexer": "ipython3",
   "version": "3.7.0"
  }
 },
 "nbformat": 4,
 "nbformat_minor": 2
}
